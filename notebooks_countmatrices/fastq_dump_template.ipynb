{
  "nbformat": 4,
  "nbformat_minor": 0,
  "metadata": {
    "colab": {
      "name": "fastq_dump_template.ipynb",
      "provenance": [],
      "collapsed_sections": [],
      "include_colab_link": true
    },
    "kernelspec": {
      "name": "python3",
      "display_name": "Python 3"
    }
  },
  "cells": [
    {
      "cell_type": "markdown",
      "metadata": {
        "id": "view-in-github",
        "colab_type": "text"
      },
      "source": [
        "<a href=\"https://colab.research.google.com/github/agalvezm/SPLiT-seq_kallisto/blob/main/notebooks_countmatrices/fastq_dump_template.ipynb\" target=\"_parent\"><img src=\"https://colab.research.google.com/assets/colab-badge.svg\" alt=\"Open In Colab\"/></a>"
      ]
    },
    {
      "cell_type": "markdown",
      "metadata": {
        "id": "V9ryXluJsJw9"
      },
      "source": [
        "# GSE134809_"
      ]
    },
    {
      "cell_type": "markdown",
      "metadata": {
        "id": "EppiXxB3UuGn"
      },
      "source": [
        "##Metadata"
      ]
    },
    {
      "cell_type": "code",
      "metadata": {
        "id": "d0cJ90PSUteO"
      },
      "source": [
        "# define the values for the analysis\n",
        "\n",
        "# accession id for the data\n",
        "id = \"GSE134809\"\n",
        "\n",
        "samp_id = [\"GSM3972009\"]\n",
        "\n",
        "no_samples = 1\n",
        "\n",
        "fastqs_per_sample = [8] \n",
        "\n",
        "sample_id = samp_id\n",
        "\n",
        "database_id = [id] * no_samples\n",
        "\n",
        "tissue = [\"ileum\"] * no_samples\n",
        "\n",
        "cell_type = [\"lamina propria\"] * no_samples\n",
        "\n",
        "condition = [\"involved\"] * no_samples\n",
        "\n",
        "species = [\"human\"] * no_samples\n",
        "\n",
        "technology = [\"10xv1\"] * no_samples\n",
        "\n",
        "paper = [\"Sungnak et al. Nature medicine (2020)\"] * no_samples\n",
        "\n",
        "figure = [\"Fig 2\"] * no_samples\n",
        "\n",
        "\n",
        "# Set string variables for kb functions\n",
        "\n",
        "species_kb = species[0]\n",
        "\n",
        "technology_kb = technology[0]"
      ],
      "execution_count": null,
      "outputs": []
    },
    {
      "cell_type": "markdown",
      "metadata": {
        "id": "RSGk6d-bUwF_"
      },
      "source": [
        "## fastq-dump"
      ]
    },
    {
      "cell_type": "code",
      "metadata": {
        "id": "2BiFt2wu4aLh",
        "colab": {
          "base_uri": "https://localhost:8080/"
        },
        "outputId": "ed30585d-1c51-4648-fa3f-b63c088422b0"
      },
      "source": [
        "# Install SRA-toolkit \n",
        "!wget \"http://ftp-trace.ncbi.nlm.nih.gov/sra/sdk/current/sratoolkit.current-centos_linux64.tar.gz\"\n",
        "\n",
        "! tar -xzf sratoolkit.current-centos_linux64.tar.gz\n",
        "\n",
        "# Add to path\n",
        "import os\n",
        "os.environ['PATH'] += \":/content/sratoolkit.2.10.9-centos_linux64/bin\"\n",
        "\n",
        "# Configure\n",
        "!vdb-config --interactive\n",
        "\n",
        "# Import packages\n",
        "\n",
        "import numpy as np\n"
      ],
      "execution_count": null,
      "outputs": [
        {
          "output_type": "stream",
          "text": [
            "URL transformed to HTTPS due to an HSTS policy\n",
            "--2021-01-21 20:49:46--  https://ftp-trace.ncbi.nlm.nih.gov/sra/sdk/current/sratoolkit.current-centos_linux64.tar.gz\n",
            "Resolving ftp-trace.ncbi.nlm.nih.gov (ftp-trace.ncbi.nlm.nih.gov)... 130.14.250.13, 2607:f220:41e:250::10, 2607:f220:41e:250::11, ...\n",
            "Connecting to ftp-trace.ncbi.nlm.nih.gov (ftp-trace.ncbi.nlm.nih.gov)|130.14.250.13|:443... connected.\n",
            "HTTP request sent, awaiting response... 200 OK\n",
            "Length: 99836080 (95M) [application/x-gzip]\n",
            "Saving to: ‘sratoolkit.current-centos_linux64.tar.gz.3’\n",
            "\n",
            "sratoolkit.current- 100%[===================>]  95.21M  86.8MB/s    in 1.1s    \n",
            "\n",
            "2021-01-21 20:49:47 (86.8 MB/s) - ‘sratoolkit.current-centos_linux64.tar.gz.3’ saved [99836080/99836080]\n",
            "\n",
            "\u001b[2J\u001b[?25l\u001b[?1000h\u001b[?1002h2021-01-21T20:49:50 vdb-config.2.10.9 fatal: SIGNAL - Segmentation fault \n"
          ],
          "name": "stdout"
        }
      ]
    },
    {
      "cell_type": "code",
      "metadata": {
        "colab": {
          "base_uri": "https://localhost:8080/"
        },
        "id": "EHKBPNGotHbI",
        "outputId": "c6d2910e-a00a-457f-bd4b-d3931664bd36"
      },
      "source": [
        "!$PATH"
      ],
      "execution_count": null,
      "outputs": [
        {
          "output_type": "stream",
          "text": [
            "/bin/bash: /usr/local/nvidia/bin:/usr/local/cuda/bin:/usr/local/sbin:/usr/local/bin:/usr/sbin:/usr/bin:/sbin:/bin:/tools/node/bin:/tools/google-cloud-sdk/bin:/opt/bin:/content/sratoolkit.2.10.8-centos_linux64/bin:/content/sratoolkit.2.10.8-centos_linux64/bin:/content/sratoolkit.2.10.9-centos_linux64/bin:/content/sratoolkit.2.10.9-centos_linux64/bin: No such file or directory\n"
          ],
          "name": "stdout"
        }
      ]
    },
    {
      "cell_type": "code",
      "metadata": {
        "id": "mU4XegJlo2Na"
      },
      "source": [
        "# List of SRAs to download and transform. Copy paste from excel as string\n",
        "SRAs = \"\"\n",
        "\n",
        "SRAs = SRAs.split()\n",
        "\n",
        "# SRA to delete, usually the index file, which get downloaded because we include technical reads. \n",
        "# It varies so check in the SRA website\n",
        "SRA_to_delete = \"3\"\n",
        "\n",
        "\n",
        "SRAs_to_keep = np.setdiff1d([\"1\", \"2\", \"3\", \"4\"], [SRA_to_delete])\n"
      ],
      "execution_count": null,
      "outputs": []
    },
    {
      "cell_type": "code",
      "metadata": {
        "id": "u3uDp_jCpfhZ",
        "colab": {
          "base_uri": "https://localhost:8080/"
        },
        "outputId": "f32a1926-70ad-49c2-b2e3-fa7e012d6f20"
      },
      "source": [
        "for sra in SRAs:\n",
        "  \"\"\"\n",
        "  Downloads SRAs and transforms to compressed fastq file. Remove index reads and original SRA\n",
        "  \"\"\"\n",
        "  # Download SRA\n",
        "  !prefetch $sra\n",
        "\n",
        "  # Convert to fastq. Biological reads are usually considered technicals in 10x so do not skip them.\n",
        "  fastq_dump_cmd = \"fastq-dump -F --gzip --readids --split-files \" + sra + \"/\" + sra +\".sra\"\n",
        "  !$fastq_dump_cmd\n",
        "\n",
        "  #Remove files\n",
        "  rm_cmd_1 = \"rm \" + sra + \"/\" + sra + \".sra\"\n",
        "  rm_cmd_2 = \"rm \" + sra + \"_\" + SRA_to_delete + \".fastq.gz\" \n",
        "  !$rm_cmd_1\n",
        "  !$rm_cmd_2"
      ],
      "execution_count": null,
      "outputs": [
        {
          "output_type": "stream",
          "text": [
            "\n",
            "2021-01-21T20:51:05 prefetch.2.10.9: 1) Downloading 'SRR9827631'...\n",
            "2021-01-21T20:51:05 prefetch.2.10.9:  Downloading via HTTPS...\n",
            "2021-01-21T20:51:09 prefetch.2.10.9:  HTTPS download succeed\n",
            "2021-01-21T20:51:09 prefetch.2.10.9:  'SRR9827631' is valid\n",
            "2021-01-21T20:51:09 prefetch.2.10.9: 1) 'SRR9827631' was downloaded successfully\n",
            "2021-01-21T20:51:09 prefetch.2.10.9: 'SRR9827631' has 0 unresolved dependencies\n",
            "Read 5690582 spots for SRR9827631/SRR9827631.sra\n",
            "Written 5690582 spots for SRR9827631/SRR9827631.sra\n",
            "\n",
            "2021-01-21T20:58:06 prefetch.2.10.9: 1) Downloading 'SRR9827632'...\n",
            "2021-01-21T20:58:06 prefetch.2.10.9:  Downloading via HTTPS...\n",
            "2021-01-21T21:02:39 prefetch.2.10.9:  HTTPS download succeed\n",
            "2021-01-21T21:02:39 prefetch.2.10.9:  'SRR9827632' is valid\n",
            "2021-01-21T21:02:39 prefetch.2.10.9: 1) 'SRR9827632' was downloaded successfully\n",
            "2021-01-21T21:02:39 prefetch.2.10.9: 'SRR9827632' has 0 unresolved dependencies\n",
            "Read 4481538 spots for SRR9827632/SRR9827632.sra\n",
            "Written 4481538 spots for SRR9827632/SRR9827632.sra\n",
            "\n",
            "2021-01-21T21:08:31 prefetch.2.10.9: 1) Downloading 'SRR9827633'...\n",
            "2021-01-21T21:08:31 prefetch.2.10.9:  Downloading via HTTPS...\n",
            "2021-01-21T21:08:35 prefetch.2.10.9:  HTTPS download succeed\n",
            "2021-01-21T21:08:35 prefetch.2.10.9:  'SRR9827633' is valid\n",
            "2021-01-21T21:08:35 prefetch.2.10.9: 1) 'SRR9827633' was downloaded successfully\n",
            "2021-01-21T21:08:35 prefetch.2.10.9: 'SRR9827633' has 0 unresolved dependencies\n",
            "Read 4453864 spots for SRR9827633/SRR9827633.sra\n",
            "Written 4453864 spots for SRR9827633/SRR9827633.sra\n",
            "\n",
            "2021-01-21T21:14:25 prefetch.2.10.9: 1) Downloading 'SRR9827634'...\n",
            "2021-01-21T21:14:25 prefetch.2.10.9:  Downloading via HTTPS...\n",
            "2021-01-21T21:14:28 prefetch.2.10.9:  HTTPS download succeed\n",
            "2021-01-21T21:14:29 prefetch.2.10.9:  'SRR9827634' is valid\n",
            "2021-01-21T21:14:29 prefetch.2.10.9: 1) 'SRR9827634' was downloaded successfully\n",
            "2021-01-21T21:14:29 prefetch.2.10.9: 'SRR9827634' has 0 unresolved dependencies\n",
            "Read 4335980 spots for SRR9827634/SRR9827634.sra\n",
            "Written 4335980 spots for SRR9827634/SRR9827634.sra\n",
            "\n",
            "2021-01-21T21:20:17 prefetch.2.10.9: 1) Downloading 'SRR9827635'...\n",
            "2021-01-21T21:20:17 prefetch.2.10.9:  Downloading via HTTPS...\n",
            "2021-01-21T21:26:29 prefetch.2.10.9:  HTTPS download succeed\n",
            "2021-01-21T21:26:30 prefetch.2.10.9:  'SRR9827635' is valid\n",
            "2021-01-21T21:26:30 prefetch.2.10.9: 1) 'SRR9827635' was downloaded successfully\n",
            "2021-01-21T21:26:30 prefetch.2.10.9: 'SRR9827635' has 0 unresolved dependencies\n",
            "Read 3156209 spots for SRR9827635/SRR9827635.sra\n",
            "Written 3156209 spots for SRR9827635/SRR9827635.sra\n",
            "\n",
            "2021-01-21T21:31:16 prefetch.2.10.9: 1) Downloading 'SRR9827636'...\n",
            "2021-01-21T21:31:16 prefetch.2.10.9:  Downloading via HTTPS...\n",
            "2021-01-21T21:34:54 prefetch.2.10.9:  HTTPS download succeed\n",
            "2021-01-21T21:34:54 prefetch.2.10.9:  'SRR9827636' is valid\n",
            "2021-01-21T21:34:54 prefetch.2.10.9: 1) 'SRR9827636' was downloaded successfully\n",
            "2021-01-21T21:34:54 prefetch.2.10.9: 'SRR9827636' has 0 unresolved dependencies\n",
            "Read 3157231 spots for SRR9827636/SRR9827636.sra\n",
            "Written 3157231 spots for SRR9827636/SRR9827636.sra\n",
            "\n",
            "2021-01-21T21:39:39 prefetch.2.10.9: 1) Downloading 'SRR9827637'...\n",
            "2021-01-21T21:39:39 prefetch.2.10.9:  Downloading via HTTPS...\n",
            "2021-01-21T21:39:42 prefetch.2.10.9:  HTTPS download succeed\n",
            "2021-01-21T21:39:42 prefetch.2.10.9:  'SRR9827637' is valid\n",
            "2021-01-21T21:39:42 prefetch.2.10.9: 1) 'SRR9827637' was downloaded successfully\n",
            "2021-01-21T21:39:42 prefetch.2.10.9: 'SRR9827637' has 0 unresolved dependencies\n",
            "Read 3127754 spots for SRR9827637/SRR9827637.sra\n",
            "Written 3127754 spots for SRR9827637/SRR9827637.sra\n",
            "\n",
            "2021-01-21T21:44:26 prefetch.2.10.9: 1) Downloading 'SRR9827638'...\n",
            "2021-01-21T21:44:26 prefetch.2.10.9:  Downloading via HTTPS...\n",
            "2021-01-21T21:44:29 prefetch.2.10.9:  HTTPS download succeed\n",
            "2021-01-21T21:44:29 prefetch.2.10.9:  'SRR9827638' is valid\n",
            "2021-01-21T21:44:29 prefetch.2.10.9: 1) 'SRR9827638' was downloaded successfully\n",
            "2021-01-21T21:44:29 prefetch.2.10.9: 'SRR9827638' has 0 unresolved dependencies\n",
            "Read 3048921 spots for SRR9827638/SRR9827638.sra\n",
            "Written 3048921 spots for SRR9827638/SRR9827638.sra\n",
            "\n",
            "2021-01-21T21:49:11 prefetch.2.10.9: 1) Downloading 'SRR9827639'...\n",
            "2021-01-21T21:49:11 prefetch.2.10.9:  Downloading via HTTPS...\n",
            "2021-01-21T21:49:16 prefetch.2.10.9:  HTTPS download succeed\n",
            "2021-01-21T21:49:16 prefetch.2.10.9:  'SRR9827639' is valid\n",
            "2021-01-21T21:49:16 prefetch.2.10.9: 1) 'SRR9827639' was downloaded successfully\n",
            "2021-01-21T21:49:16 prefetch.2.10.9: 'SRR9827639' has 0 unresolved dependencies\n",
            "Read 5635655 spots for SRR9827639/SRR9827639.sra\n",
            "Written 5635655 spots for SRR9827639/SRR9827639.sra\n",
            "\n",
            "2021-01-21T21:56:13 prefetch.2.10.9: 1) Downloading 'SRR9827640'...\n",
            "2021-01-21T21:56:13 prefetch.2.10.9:  Downloading via HTTPS...\n",
            "2021-01-21T21:56:18 prefetch.2.10.9:  HTTPS download succeed\n",
            "2021-01-21T21:56:18 prefetch.2.10.9:  'SRR9827640' is valid\n",
            "2021-01-21T21:56:18 prefetch.2.10.9: 1) 'SRR9827640' was downloaded successfully\n",
            "2021-01-21T21:56:18 prefetch.2.10.9: 'SRR9827640' has 0 unresolved dependencies\n",
            "Read 5610944 spots for SRR9827640/SRR9827640.sra\n",
            "Written 5610944 spots for SRR9827640/SRR9827640.sra\n",
            "\n",
            "2021-01-21T22:03:10 prefetch.2.10.9: 1) Downloading 'SRR9827641'...\n",
            "2021-01-21T22:03:10 prefetch.2.10.9:  Downloading via HTTPS...\n",
            "2021-01-21T22:09:31 prefetch.2.10.9:  HTTPS download succeed\n",
            "2021-01-21T22:09:32 prefetch.2.10.9:  'SRR9827641' is valid\n",
            "2021-01-21T22:09:32 prefetch.2.10.9: 1) 'SRR9827641' was downloaded successfully\n",
            "2021-01-21T22:09:32 prefetch.2.10.9: 'SRR9827641' has 0 unresolved dependencies\n",
            "Read 5429790 spots for SRR9827641/SRR9827641.sra\n",
            "Written 5429790 spots for SRR9827641/SRR9827641.sra\n",
            "\n",
            "2021-01-21T22:16:19 prefetch.2.10.9: 1) Downloading 'SRR9827642'...\n",
            "2021-01-21T22:16:19 prefetch.2.10.9:  Downloading via HTTPS...\n",
            "2021-01-21T22:16:25 prefetch.2.10.9:  HTTPS download succeed\n",
            "2021-01-21T22:16:26 prefetch.2.10.9:  'SRR9827642' is valid\n",
            "2021-01-21T22:16:26 prefetch.2.10.9: 1) 'SRR9827642' was downloaded successfully\n",
            "2021-01-21T22:16:26 prefetch.2.10.9: 'SRR9827642' has 0 unresolved dependencies\n",
            "Read 6714450 spots for SRR9827642/SRR9827642.sra\n",
            "Written 6714450 spots for SRR9827642/SRR9827642.sra\n",
            "\n",
            "2021-01-21T22:24:10 prefetch.2.10.9: 1) Downloading 'SRR9827643'...\n",
            "2021-01-21T22:24:10 prefetch.2.10.9:  Downloading via HTTPS...\n",
            "2021-01-21T22:24:15 prefetch.2.10.9:  HTTPS download succeed\n",
            "2021-01-21T22:24:16 prefetch.2.10.9:  'SRR9827643' is valid\n",
            "2021-01-21T22:24:16 prefetch.2.10.9: 1) 'SRR9827643' was downloaded successfully\n",
            "2021-01-21T22:24:16 prefetch.2.10.9: 'SRR9827643' has 0 unresolved dependencies\n",
            "Read 6656731 spots for SRR9827643/SRR9827643.sra\n",
            "Written 6656731 spots for SRR9827643/SRR9827643.sra\n",
            "\n",
            "2021-01-21T22:32:00 prefetch.2.10.9: 1) Downloading 'SRR9827644'...\n",
            "2021-01-21T22:32:00 prefetch.2.10.9:  Downloading via HTTPS...\n",
            "2021-01-21T22:32:05 prefetch.2.10.9:  HTTPS download succeed\n",
            "2021-01-21T22:32:06 prefetch.2.10.9:  'SRR9827644' is valid\n",
            "2021-01-21T22:32:06 prefetch.2.10.9: 1) 'SRR9827644' was downloaded successfully\n",
            "2021-01-21T22:32:06 prefetch.2.10.9: 'SRR9827644' has 0 unresolved dependencies\n",
            "Read 6635441 spots for SRR9827644/SRR9827644.sra\n",
            "Written 6635441 spots for SRR9827644/SRR9827644.sra\n",
            "\n",
            "2021-01-21T22:39:46 prefetch.2.10.9: 1) Downloading 'SRR9827645'...\n",
            "2021-01-21T22:39:46 prefetch.2.10.9:  Downloading via HTTPS...\n",
            "2021-01-21T22:47:38 prefetch.2.10.9:  HTTPS download succeed\n",
            "2021-01-21T22:47:39 prefetch.2.10.9:  'SRR9827645' is valid\n",
            "2021-01-21T22:47:39 prefetch.2.10.9: 1) 'SRR9827645' was downloaded successfully\n",
            "2021-01-21T22:47:39 prefetch.2.10.9: 'SRR9827645' has 0 unresolved dependencies\n",
            "Read 6426802 spots for SRR9827645/SRR9827645.sra\n",
            "Written 6426802 spots for SRR9827645/SRR9827645.sra\n",
            "\n",
            "2021-01-21T22:55:15 prefetch.2.10.9: 1) Downloading 'SRR9827646'...\n",
            "2021-01-21T22:55:15 prefetch.2.10.9:  Downloading via HTTPS...\n",
            "2021-01-21T22:55:18 prefetch.2.10.9:  HTTPS download succeed\n",
            "2021-01-21T22:55:19 prefetch.2.10.9:  'SRR9827646' is valid\n",
            "2021-01-21T22:55:19 prefetch.2.10.9: 1) 'SRR9827646' was downloaded successfully\n",
            "2021-01-21T22:55:19 prefetch.2.10.9: 'SRR9827646' has 0 unresolved dependencies\n",
            "Read 4493759 spots for SRR9827646/SRR9827646.sra\n",
            "Written 4493759 spots for SRR9827646/SRR9827646.sra\n"
          ],
          "name": "stdout"
        }
      ]
    },
    {
      "cell_type": "code",
      "metadata": {
        "id": "bmN2opl1qHSh"
      },
      "source": [
        "# Define fastq list to feed kb\n",
        "\n",
        "fastqs = []\n",
        "for sra in SRAs:\n",
        "  for read in SRAs_to_keep:\n",
        "    fastqs.append(sra + \"_\" + read + \".fastq.gz\")"
      ],
      "execution_count": null,
      "outputs": []
    },
    {
      "cell_type": "code",
      "metadata": {
        "colab": {
          "base_uri": "https://localhost:8080/"
        },
        "id": "imOxvts6LM_c",
        "outputId": "df42f33e-4181-483d-d207-98e49c5f671f"
      },
      "source": [
        "fastqs"
      ],
      "execution_count": null,
      "outputs": [
        {
          "output_type": "execute_result",
          "data": {
            "text/plain": [
              "['SRR9827631_1.fastq.gz',\n",
              " 'SRR9827631_2.fastq.gz',\n",
              " 'SRR9827631_3.fastq.gz',\n",
              " 'SRR9827632_1.fastq.gz',\n",
              " 'SRR9827632_2.fastq.gz',\n",
              " 'SRR9827632_3.fastq.gz',\n",
              " 'SRR9827633_1.fastq.gz',\n",
              " 'SRR9827633_2.fastq.gz',\n",
              " 'SRR9827633_3.fastq.gz',\n",
              " 'SRR9827634_1.fastq.gz',\n",
              " 'SRR9827634_2.fastq.gz',\n",
              " 'SRR9827634_3.fastq.gz',\n",
              " 'SRR9827635_1.fastq.gz',\n",
              " 'SRR9827635_2.fastq.gz',\n",
              " 'SRR9827635_3.fastq.gz',\n",
              " 'SRR9827636_1.fastq.gz',\n",
              " 'SRR9827636_2.fastq.gz',\n",
              " 'SRR9827636_3.fastq.gz',\n",
              " 'SRR9827637_1.fastq.gz',\n",
              " 'SRR9827637_2.fastq.gz',\n",
              " 'SRR9827637_3.fastq.gz',\n",
              " 'SRR9827638_1.fastq.gz',\n",
              " 'SRR9827638_2.fastq.gz',\n",
              " 'SRR9827638_3.fastq.gz',\n",
              " 'SRR9827639_1.fastq.gz',\n",
              " 'SRR9827639_2.fastq.gz',\n",
              " 'SRR9827639_3.fastq.gz',\n",
              " 'SRR9827640_1.fastq.gz',\n",
              " 'SRR9827640_2.fastq.gz',\n",
              " 'SRR9827640_3.fastq.gz',\n",
              " 'SRR9827641_1.fastq.gz',\n",
              " 'SRR9827641_2.fastq.gz',\n",
              " 'SRR9827641_3.fastq.gz',\n",
              " 'SRR9827642_1.fastq.gz',\n",
              " 'SRR9827642_2.fastq.gz',\n",
              " 'SRR9827642_3.fastq.gz',\n",
              " 'SRR9827643_1.fastq.gz',\n",
              " 'SRR9827643_2.fastq.gz',\n",
              " 'SRR9827643_3.fastq.gz',\n",
              " 'SRR9827644_1.fastq.gz',\n",
              " 'SRR9827644_2.fastq.gz',\n",
              " 'SRR9827644_3.fastq.gz',\n",
              " 'SRR9827645_1.fastq.gz',\n",
              " 'SRR9827645_2.fastq.gz',\n",
              " 'SRR9827645_3.fastq.gz',\n",
              " 'SRR9827646_1.fastq.gz',\n",
              " 'SRR9827646_2.fastq.gz',\n",
              " 'SRR9827646_3.fastq.gz']"
            ]
          },
          "metadata": {
            "tags": []
          },
          "execution_count": 22
        }
      ]
    },
    {
      "cell_type": "markdown",
      "metadata": {
        "id": "5tT2sVv2-XMD"
      },
      "source": [
        "## Metadata"
      ]
    },
    {
      "cell_type": "code",
      "metadata": {
        "id": "ggNFAQJCRh6P"
      },
      "source": [
        "# define the values for the analysis\n",
        "\n",
        "# accession id for the data\n",
        "id = \"GSE134809\"\n",
        "\n",
        "samp_id = [\"GSM3972009\"]\n",
        "\n",
        "no_samples = 1\n",
        "\n",
        "fastqs_per_sample = [8] \n",
        "\n",
        "sample_id = samp_id\n",
        "\n",
        "database_id = [id] * no_samples\n",
        "\n",
        "tissue = [\"ileum\"] * no_samples\n",
        "\n",
        "cell_type = [\"lamina propria\"] * no_samples\n",
        "\n",
        "condition = [\"involved\"] * no_samples\n",
        "\n",
        "species = [\"human\"] * no_samples\n",
        "\n",
        "technology = [\"10xv1\"] * no_samples\n",
        "\n",
        "paper = [\"Sungnak et al. Nature medicine (2020)\"] * no_samples\n",
        "\n",
        "figure = [\"Fig 2\"] * no_samples\n",
        "\n",
        "\n",
        "# Set string variables for kb functions\n",
        "\n",
        "species_kb = species[0]\n",
        "\n",
        "technology_kb = technology[0]"
      ],
      "execution_count": null,
      "outputs": []
    },
    {
      "cell_type": "markdown",
      "metadata": {
        "id": "FPwL0-_-KSAw"
      },
      "source": [
        "# Imports and installs"
      ]
    },
    {
      "cell_type": "code",
      "metadata": {
        "id": "1HSlUGZEp3oP",
        "colab": {
          "base_uri": "https://localhost:8080/"
        },
        "outputId": "02c6dcad-771f-4268-8a68-a94aa2756614"
      },
      "source": [
        "# install and import necessary software\n",
        "\n",
        "# Install kb and scanpy\n",
        "!pip -q install kb-python \n",
        "!pip -q install scanpy\n",
        "\n",
        "import re\n",
        "import os\n",
        "\n",
        "# Setup\n",
        "\n",
        "import anndata\n",
        "import pandas as pd\n",
        "import numpy as np\n",
        "import matplotlib.pyplot as plt\n",
        "import matplotlib as mpl\n",
        "import matplotlib.patches as mpatches\n",
        "import scanpy as sc\n",
        "from scipy import stats\n",
        "\n",
        "from collections import OrderedDict\n",
        "from sklearn.decomposition import TruncatedSVD\n",
        "from sklearn.manifold import TSNE\n",
        "from sklearn.preprocessing import scale\n",
        "\n",
        "from sklearn.cluster import KMeans\n",
        "from sklearn.preprocessing import normalize\n",
        "from sklearn.preprocessing import LabelEncoder\n",
        "from sklearn.neighbors import NeighborhoodComponentsAnalysis\n",
        "from matplotlib import cm\n",
        "from matplotlib.lines import Line2D\n",
        "\n",
        "def nd(arr):\n",
        "    return np.asarray(arr).reshape(-1)\n",
        "def yex(ax):\n",
        "    lims = [np.min([ax.get_xlim(), ax.get_ylim()]),\n",
        "            np.max([ax.get_xlim(), ax.get_ylim()])]\n",
        "\n",
        "    # now plot both limits against eachother\n",
        "    ax.plot(lims, lims, 'k-', alpha=0.75, zorder=0)\n",
        "    ax.set_aspect('equal')\n",
        "    ax.set_xlim(lims)\n",
        "    ax.set_ylim(lims)\n",
        "    return ax\n",
        "\n",
        "def trim_axs(axs, N):\n",
        "    \"\"\"little helper to massage the axs list to have correct length...\"\"\"\n",
        "    axs = axs.flat\n",
        "    for ax in axs[N:]:\n",
        "        ax.remove()\n",
        "    return axs[:N]\n",
        "\n",
        "import warnings\n",
        "warnings.filterwarnings('ignore')\n",
        "\n",
        "fsize=20\n",
        "\n",
        "plt.rcParams.update({'font.size': fsize})\n",
        "%config InlineBackend.figure_format = 'retina'"
      ],
      "execution_count": null,
      "outputs": [
        {
          "output_type": "stream",
          "text": [
            "\u001b[K     |████████████████████████████████| 59.1MB 144kB/s \n",
            "\u001b[K     |████████████████████████████████| 10.2MB 41.5MB/s \n",
            "\u001b[K     |████████████████████████████████| 13.2MB 207kB/s \n",
            "\u001b[K     |████████████████████████████████| 122kB 60.7MB/s \n",
            "\u001b[K     |████████████████████████████████| 51kB 4.1MB/s \n",
            "\u001b[K     |████████████████████████████████| 112kB 56.7MB/s \n",
            "\u001b[K     |████████████████████████████████| 51kB 5.3MB/s \n",
            "\u001b[K     |████████████████████████████████| 71kB 6.5MB/s \n",
            "\u001b[?25h  Building wheel for loompy (setup.py) ... \u001b[?25l\u001b[?25hdone\n",
            "  Building wheel for sinfo (setup.py) ... \u001b[?25l\u001b[?25hdone\n",
            "  Building wheel for numpy-groupies (setup.py) ... \u001b[?25l\u001b[?25hdone\n"
          ],
          "name": "stdout"
        }
      ]
    },
    {
      "cell_type": "markdown",
      "metadata": {
        "id": "7V6FbosVrvP4"
      },
      "source": [
        "# Downloads: index"
      ]
    },
    {
      "cell_type": "code",
      "metadata": {
        "id": "PC9oETW1pE9t",
        "colab": {
          "base_uri": "https://localhost:8080/"
        },
        "outputId": "bbb6a8e0-e45c-4f64-d437-e4d7cf12f671"
      },
      "source": [
        "# Download the corresponding Kallisto index to fastq folder\n",
        "!kb ref -d $species_kb -i index.idx -g t2g.txt -f1 transcriptome.fasta"
      ],
      "execution_count": null,
      "outputs": [
        {
          "output_type": "stream",
          "text": [
            "[2021-01-22 03:56:27,264]    INFO Downloading files for human from https://caltech.box.com/shared/static/v1nm7lpnqz5syh8dyzdk2zs8bglncfib.gz to tmp/v1nm7lpnqz5syh8dyzdk2zs8bglncfib.gz\n",
            "100% 2.23G/2.23G [02:05<00:00, 19.0MB/s]\n",
            "[2021-01-22 03:58:34,334]    INFO Extracting files from tmp/v1nm7lpnqz5syh8dyzdk2zs8bglncfib.gz\n"
          ],
          "name": "stdout"
        }
      ]
    },
    {
      "cell_type": "markdown",
      "metadata": {
        "id": "VInyuq1Dp7iz"
      },
      "source": [
        "# Process fastq files (modify kb command according to fastqs list)\n"
      ]
    },
    {
      "cell_type": "code",
      "metadata": {
        "id": "F6FD32x-shPe",
        "colab": {
          "base_uri": "https://localhost:8080/"
        },
        "outputId": "7d4554a8-db37-4204-8d1b-41d3bce80007"
      },
      "source": [
        "fastqs"
      ],
      "execution_count": null,
      "outputs": [
        {
          "output_type": "execute_result",
          "data": {
            "text/plain": [
              "['SRR9827631_1.fastq.gz',\n",
              " 'SRR9827631_2.fastq.gz',\n",
              " 'SRR9827632_1.fastq.gz',\n",
              " 'SRR9827632_2.fastq.gz',\n",
              " 'SRR9827633_1.fastq.gz',\n",
              " 'SRR9827633_2.fastq.gz',\n",
              " 'SRR9827634_1.fastq.gz',\n",
              " 'SRR9827634_2.fastq.gz',\n",
              " 'SRR9827635_1.fastq.gz',\n",
              " 'SRR9827635_2.fastq.gz',\n",
              " 'SRR9827636_1.fastq.gz',\n",
              " 'SRR9827636_2.fastq.gz',\n",
              " 'SRR9827637_1.fastq.gz',\n",
              " 'SRR9827637_2.fastq.gz',\n",
              " 'SRR9827638_1.fastq.gz',\n",
              " 'SRR9827638_2.fastq.gz',\n",
              " 'SRR9827639_1.fastq.gz',\n",
              " 'SRR9827639_2.fastq.gz',\n",
              " 'SRR9827640_1.fastq.gz',\n",
              " 'SRR9827640_2.fastq.gz',\n",
              " 'SRR9827641_1.fastq.gz',\n",
              " 'SRR9827641_2.fastq.gz',\n",
              " 'SRR9827642_1.fastq.gz',\n",
              " 'SRR9827642_2.fastq.gz',\n",
              " 'SRR9827643_1.fastq.gz',\n",
              " 'SRR9827643_2.fastq.gz',\n",
              " 'SRR9827644_1.fastq.gz',\n",
              " 'SRR9827644_2.fastq.gz',\n",
              " 'SRR9827645_1.fastq.gz',\n",
              " 'SRR9827645_2.fastq.gz',\n",
              " 'SRR9827646_1.fastq.gz',\n",
              " 'SRR9827646_2.fastq.gz']"
            ]
          },
          "metadata": {
            "tags": []
          },
          "execution_count": 19
        }
      ]
    },
    {
      "cell_type": "code",
      "metadata": {
        "id": "5qFzPj-0kZTi",
        "colab": {
          "base_uri": "https://localhost:8080/"
        },
        "outputId": "cd4671f0-3e06-49c7-e48a-06df06eff5b1"
      },
      "source": [
        "# Specify the sample number \n",
        "\n",
        "\n",
        "if no_samples == 1:\n",
        "\n",
        "  # Write the kb count command as a string with all fastqs of the list as an input\n",
        "  cmd = \"kb count --h5ad -i index.idx -g t2g.txt -x \" + technology_kb + \" -o output\" + sample_id[0] + \" \"\\\n",
        "  + \"--filter bustools -t 2 --overwrite \" + \"'\" +  \"' '\".join(fastqs) + \"'\"\n",
        "  \n",
        "  # Execute it\n",
        "  !$cmd\n",
        "\n",
        "# If more than one sample, iterate through fastqs accordingly\n",
        "else:\n",
        "\n",
        "  # Initializa counter for fastq files\n",
        "  j = 0\n",
        "\n",
        "  # Loop over samples for analysis\n",
        "  for i in range(no_samples):\n",
        "\n",
        "    fastqs_to_analyze = fastqs[j:j + fastqs_per_sample[i]]\n",
        "    # Write the kb count command as a string\n",
        "    cmd = \"kb count --h5ad -i index.idx -g t2g.txt -x \" + technology_kb + \" -o output\" + sample_id[i] + \" \\\n",
        "    --filter bustools -t 2 --overwrite \" + \"'\" +  \"' '\".join(fastqs_to_analyze) + \"'\"\n",
        "\n",
        "    # Execute it\n",
        "    !$cmd\n",
        "\n",
        "    # Update j to move to the next set of fastq\n",
        "    j = j + fastqs_per_sample[i]\n",
        "\n",
        "\n",
        "\n",
        "\n",
        "\n"
      ],
      "execution_count": null,
      "outputs": [
        {
          "output_type": "stream",
          "text": [
            "[2021-01-22 04:02:47,559]    INFO Using index index.idx to generate BUS file to outputGSM3972009 from\n",
            "[2021-01-22 04:02:47,559]    INFO         SRR9827631_1.fastq.gz\n",
            "[2021-01-22 04:02:47,559]    INFO         SRR9827631_2.fastq.gz\n",
            "[2021-01-22 04:02:47,559]    INFO         SRR9827631_3.fastq.gz\n",
            "[2021-01-22 04:02:47,559]    INFO         SRR9827632_1.fastq.gz\n",
            "[2021-01-22 04:02:47,559]    INFO         SRR9827632_2.fastq.gz\n",
            "[2021-01-22 04:02:47,559]    INFO         SRR9827632_3.fastq.gz\n",
            "[2021-01-22 04:02:47,559]    INFO         SRR9827633_1.fastq.gz\n",
            "[2021-01-22 04:02:47,559]    INFO         SRR9827633_2.fastq.gz\n",
            "[2021-01-22 04:02:47,559]    INFO         SRR9827633_3.fastq.gz\n",
            "[2021-01-22 04:02:47,559]    INFO         SRR9827634_1.fastq.gz\n",
            "[2021-01-22 04:02:47,559]    INFO         SRR9827634_2.fastq.gz\n",
            "[2021-01-22 04:02:47,559]    INFO         SRR9827634_3.fastq.gz\n",
            "[2021-01-22 04:02:47,559]    INFO         SRR9827635_1.fastq.gz\n",
            "[2021-01-22 04:02:47,559]    INFO         SRR9827635_2.fastq.gz\n",
            "[2021-01-22 04:02:47,559]    INFO         SRR9827635_3.fastq.gz\n",
            "[2021-01-22 04:02:47,559]    INFO         SRR9827636_1.fastq.gz\n",
            "[2021-01-22 04:02:47,559]    INFO         SRR9827636_2.fastq.gz\n",
            "[2021-01-22 04:02:47,559]    INFO         SRR9827636_3.fastq.gz\n",
            "[2021-01-22 04:02:47,559]    INFO         SRR9827637_1.fastq.gz\n",
            "[2021-01-22 04:02:47,559]    INFO         SRR9827637_2.fastq.gz\n",
            "[2021-01-22 04:02:47,559]    INFO         SRR9827637_3.fastq.gz\n",
            "[2021-01-22 04:02:47,559]    INFO         SRR9827638_1.fastq.gz\n",
            "[2021-01-22 04:02:47,559]    INFO         SRR9827638_2.fastq.gz\n",
            "[2021-01-22 04:02:47,559]    INFO         SRR9827638_3.fastq.gz\n",
            "[2021-01-22 04:02:47,559]    INFO         SRR9827639_1.fastq.gz\n",
            "[2021-01-22 04:02:47,559]    INFO         SRR9827639_2.fastq.gz\n",
            "[2021-01-22 04:02:47,559]    INFO         SRR9827639_3.fastq.gz\n",
            "[2021-01-22 04:02:47,559]    INFO         SRR9827640_1.fastq.gz\n",
            "[2021-01-22 04:02:47,560]    INFO         SRR9827640_2.fastq.gz\n",
            "[2021-01-22 04:02:47,560]    INFO         SRR9827640_3.fastq.gz\n",
            "[2021-01-22 04:02:47,560]    INFO         SRR9827641_1.fastq.gz\n",
            "[2021-01-22 04:02:47,560]    INFO         SRR9827641_2.fastq.gz\n",
            "[2021-01-22 04:02:47,560]    INFO         SRR9827641_3.fastq.gz\n",
            "[2021-01-22 04:02:47,560]    INFO         SRR9827642_1.fastq.gz\n",
            "[2021-01-22 04:02:47,560]    INFO         SRR9827642_2.fastq.gz\n",
            "[2021-01-22 04:02:47,560]    INFO         SRR9827642_3.fastq.gz\n",
            "[2021-01-22 04:02:47,560]    INFO         SRR9827643_1.fastq.gz\n",
            "[2021-01-22 04:02:47,560]    INFO         SRR9827643_2.fastq.gz\n",
            "[2021-01-22 04:02:47,560]    INFO         SRR9827643_3.fastq.gz\n",
            "[2021-01-22 04:02:47,560]    INFO         SRR9827644_1.fastq.gz\n",
            "[2021-01-22 04:02:47,560]    INFO         SRR9827644_2.fastq.gz\n",
            "[2021-01-22 04:02:47,560]    INFO         SRR9827644_3.fastq.gz\n",
            "[2021-01-22 04:02:47,560]    INFO         SRR9827645_1.fastq.gz\n",
            "[2021-01-22 04:02:47,560]    INFO         SRR9827645_2.fastq.gz\n",
            "[2021-01-22 04:02:47,560]    INFO         SRR9827645_3.fastq.gz\n",
            "[2021-01-22 04:02:47,560]    INFO         SRR9827646_1.fastq.gz\n",
            "[2021-01-22 04:02:47,560]    INFO         SRR9827646_2.fastq.gz\n",
            "[2021-01-22 04:02:47,560]    INFO         SRR9827646_3.fastq.gz\n"
          ],
          "name": "stdout"
        }
      ]
    },
    {
      "cell_type": "code",
      "metadata": {
        "id": "N3Hmjw5ZRLZi"
      },
      "source": [
        "import time\n",
        "time.sleep(6000000)"
      ],
      "execution_count": null,
      "outputs": []
    },
    {
      "cell_type": "markdown",
      "metadata": {
        "id": "tDijOZzrqhN2"
      },
      "source": [
        "# Load unfiltered matrix and assign filters to each matrix individually"
      ]
    },
    {
      "cell_type": "markdown",
      "metadata": {
        "id": "VkNLZh_pNFFw"
      },
      "source": [
        "## Load the unfiltered matrix (check dimensions)"
      ]
    },
    {
      "cell_type": "code",
      "metadata": {
        "id": "PppRNeV8AIyw"
      },
      "source": [
        "# Define dict to store data\n",
        "results = {}\n"
      ],
      "execution_count": null,
      "outputs": []
    },
    {
      "cell_type": "code",
      "metadata": {
        "id": "pKmtGf3c_BiZ",
        "cellView": "both",
        "colab": {
          "base_uri": "https://localhost:8080/"
        },
        "outputId": "2c62130b-7548-4bb5-ce67-3a09cfa14b9d"
      },
      "source": [
        "# load the unfiltered matrix\n",
        "for i in range(no_samples):\n",
        "  results[sample_id[i]] = anndata.read_h5ad(\"output\" + sample_id[i] + \"/counts_unfiltered/adata.h5ad\")\n",
        "  results[sample_id[i]].var[\"gene_id\"] = results[sample_id[i]].var.index.values\n",
        "\n",
        "  t2g = pd.read_csv(\"t2g.txt\", header=None, names=[\"tid\", \"gene_id\", \"gene_name\"], sep=\"\\t\")\n",
        "  t2g.index = t2g.gene_id\n",
        "  t2g = t2g.loc[~t2g.index.duplicated(keep='first')]\n",
        "\n",
        "  results[sample_id[i]].var[\"gene_name\"] = results[sample_id[i]].var.gene_id.map(t2g[\"gene_name\"])\n",
        "  results[sample_id[i]].var.index = results[sample_id[i]].var[\"gene_name\"]\n",
        "  print(\"The unfiltered matrix \" + sample_id[i] + \" contains {} cells by {} genes\".format(len(results[sample_id[i]].obs), len(results[sample_id[i]].var)))\n",
        "\n",
        "  results[sample_id[i]].obs[\"cell_counts\"] = results[sample_id[i]].X.sum(axis=1)\n",
        "  results[sample_id[i]].var[\"gene_counts\"] = nd(results[sample_id[i]].X.sum(axis=0))\n",
        "\n",
        "  results[sample_id[i]].obs[\"n_genes\"] = nd((results[sample_id[i]].X>0).sum(axis=1))\n",
        "  results[sample_id[i]].var[\"n_cells\"] = nd((results[sample_id[i]].X>0).sum(axis=0))\n",
        "\n",
        "  mito_genes = results[sample_id[i]].var_names.str.startswith(\"MT-\" or \"mt-\") \n",
        "  results[sample_id[i]].obs[\"percent_mito\"] = results[sample_id[i]][:,mito_genes].X.sum(axis=1)/results[sample_id[i]].X.sum(axis=1)*100\n",
        "\n",
        "  # Changing the name of the index is necessary to write the file (it won't work with duplicated names)\n",
        "  results[sample_id[i]].var.index.name = \"index\"\n",
        "\n"
      ],
      "execution_count": null,
      "outputs": [
        {
          "output_type": "stream",
          "text": [
            "The unfiltered matrix GSM3665016 contains 173421 cells by 60623 genes\n"
          ],
          "name": "stdout"
        }
      ]
    },
    {
      "cell_type": "markdown",
      "metadata": {
        "id": "hDAUH3eH_2RA"
      },
      "source": [
        "## Assign filters for each matrix individually"
      ]
    },
    {
      "cell_type": "code",
      "metadata": {
        "id": "ukinuaKk_6Po"
      },
      "source": [
        "# Modify this manually to change sample after having assigned the \"expected_num_cells\" and \"mito_criteria\" parameters\n",
        "samp_n = 0\n",
        "\n",
        "\n",
        "# Filtering criteria\n",
        "cell_threshold = 100\n",
        "gene_threshold = 3\n",
        "\n",
        "mito_criteria = 30"
      ],
      "execution_count": null,
      "outputs": []
    },
    {
      "cell_type": "code",
      "metadata": {
        "id": "a5wZB5pEfwNs",
        "cellView": "form",
        "colab": {
          "base_uri": "https://localhost:8080/",
          "height": 726
        },
        "outputId": "f24a36f6-8838-4c5f-830f-f2b3d1fe1d52"
      },
      "source": [
        "\n",
        "expected_num_cells = 2500#@param {type:\"integer\"}\n",
        "knee = np.sort(nd(results[sample_id[samp_n]].X.sum(axis=1)))[::-1]\n",
        "\n",
        "fig, ax = plt.subplots(figsize=(5, 5))\n",
        "\n",
        "x = knee\n",
        "y = range(len(knee))\n",
        "\n",
        "ax.loglog(x, y, linewidth=5, color=\"g\")\n",
        "\n",
        "ax.axvline(x=knee[expected_num_cells], linewidth=3, color=\"k\")\n",
        "ax.axhline(y=expected_num_cells, linewidth=3, color=\"k\")\n",
        "\n",
        "ax.set_xlabel(\"UMI Counts\")\n",
        "ax.set_ylabel(\"Set of Barcodes\")\n",
        "\n",
        "plt.show()\n",
        "\n",
        "cell_threshold = knee[expected_num_cells]\n",
        "\n",
        "results[\"cell_threshold\" + sample_id[samp_n]] = knee[expected_num_cells]\n",
        "\n",
        "print (\"Cells were filtered down to \" + str(expected_num_cells) + \" with at least \" + str(cell_threshold) + \" UMIs\")\n",
        "\n",
        "\n",
        "mito_criteria = 25#@param {type:\"integer\"}\n",
        "results[\"mito_criteria\" + sample_id[samp_n]] = mito_criteria\n",
        "\n",
        "fig, ax = plt.subplots(figsize=(5,5))\n",
        "\n",
        "\n",
        "x = nd(results[sample_id[samp_n]].obs[\"cell_counts\"][results[sample_id[samp_n]].obs[\"cell_counts\"] > cell_threshold])\n",
        "y = nd(results[sample_id[samp_n]].obs[\"percent_mito\"][results[sample_id[samp_n]].obs[\"cell_counts\"] > cell_threshold])\n",
        "\n",
        "ax.scatter(x, y, color=\"green\", alpha=0.1)\n",
        "\n",
        "ax.axhline(y=mito_criteria, linestyle=\"--\", color=\"k\")\n",
        "\n",
        "\n",
        "ax.set_xlabel(\"UMI Counts\")\n",
        "ax.set_ylabel(\"Percent mito\")\n",
        "\n",
        "\n",
        "plt.show()\n",
        "\n",
        "print(\"We select \" + str(mito_criteria) + \" % as the mitochondrial content threshold\")"
      ],
      "execution_count": null,
      "outputs": [
        {
          "output_type": "display_data",
          "data": {
            "image/png": "[encoded data removed]",
            "text/plain": [
              "<Figure size 360x360 with 1 Axes>"
            ]
          },
          "metadata": {
            "tags": [],
            "image/png": {
              "width": 358,
              "height": 337
            },
            "needs_background": "light"
          }
        },
        {
          "output_type": "stream",
          "text": [
            "Cells were filtered down to 2500 with at least 57.0 UMIs\n"
          ],
          "name": "stdout"
        },
        {
          "output_type": "display_data",
          "data": {
            "image/png": "[encoded data removed]",
            "text/plain": [
              "<Figure size 360x360 with 1 Axes>"
            ]
          },
          "metadata": {
            "tags": [],
            "image/png": {
              "width": 362,
              "height": 338
            },
            "needs_background": "light"
          }
        },
        {
          "output_type": "stream",
          "text": [
            "We select 25 % as the mitochondrial content threshold\n"
          ],
          "name": "stdout"
        }
      ]
    },
    {
      "cell_type": "markdown",
      "metadata": {
        "id": "eP9j2ouPq9KY"
      },
      "source": [
        "# Filter matrix"
      ]
    },
    {
      "cell_type": "code",
      "metadata": {
        "id": "sE51WUA3gVmG",
        "colab": {
          "base_uri": "https://localhost:8080/"
        },
        "outputId": "51f55b8b-e4e7-45ca-e88f-cea5c346ffd1"
      },
      "source": [
        "for i in range(no_samples):\n",
        "  results[sample_id[i]].obs[\"pass_count_filter\"] = results[sample_id[i]].obs[\"cell_counts\"] > results[\"cell_threshold\" + sample_id[i]]\n",
        "  results[sample_id[i]].obs[\"pass_mito_filter\"] = results[sample_id[i]].obs.percent_mito < results[\"mito_criteria\" + sample_id[i]]\n",
        "  results[sample_id[i]].var[\"pass_gene_filter\"] = results[sample_id[i]].var[\"n_cells\"] > gene_threshold\n",
        "\n",
        "  cell_mask = np.logical_and(results[sample_id[i]].obs[\"pass_count_filter\"].values, results[sample_id[i]].obs[\"pass_mito_filter\"].values)\n",
        "  gene_mask = results[sample_id[i]].var[\"pass_gene_filter\"].values\n",
        "\n",
        "  print(\"Current Shape: {:,} cells x {:,} genes\".format(results[sample_id[i]].shape[0], results[sample_id[i]].shape[1]))\n",
        "  print(\"    New shape: {:,} cells x {:,} genes\".format(cell_mask.sum(), gene_mask.sum()))\n",
        "  results[\"data_\" + sample_id[i]] = results[sample_id[i]][cell_mask, gene_mask]"
      ],
      "execution_count": null,
      "outputs": [
        {
          "output_type": "stream",
          "text": [
            "Current Shape: 173,421 cells x 60,623 genes\n",
            "    New shape: 2,401 cells x 23,772 genes\n"
          ],
          "name": "stdout"
        }
      ]
    },
    {
      "cell_type": "markdown",
      "metadata": {
        "id": "BxPA81yj4TlU"
      },
      "source": [
        "# Anotate and write the Anndata object"
      ]
    },
    {
      "cell_type": "code",
      "metadata": {
        "id": "O-q_Qj2U4kDU",
        "colab": {
          "base_uri": "https://localhost:8080/"
        },
        "outputId": "586b02a9-111d-4f2b-943d-56e0366b4fe1"
      },
      "source": [
        "for i in range(no_samples):\n",
        "\n",
        "\n",
        "  results[\"data_\" + sample_id[i]].uns[\"database_id\"] = database_id[samp_n]\n",
        "\n",
        "  results[\"data_\" + sample_id[i]].uns[\"tissue\"] = tissue[samp_n]\n",
        "\n",
        "  results[\"data_\" + sample_id[i]].uns[\"cell_type\"] = cell_type[samp_n]\n",
        "\n",
        "  results[\"data_\" + sample_id[i]].uns[\"sample_id\"] = sample_id[samp_n]\n",
        "\n",
        "  results[\"data_\" + sample_id[i]].uns[\"condition\"] = condition[samp_n]\n",
        "\n",
        "  results[\"data_\" + sample_id[i]].uns[\"species\"] = species[samp_n]\n",
        "\n",
        "  results[\"data_\" + sample_id[i]].uns[\"technology\"] = technology[samp_n]\n",
        "\n",
        "  results[\"data_\" + sample_id[i]].uns[\"paper\"] = paper[samp_n]\n",
        "\n",
        "  results[\"data_\" + sample_id[i]].uns[\"figure\"] = figure[samp_n]\n",
        "\n",
        "\n",
        "%cd /content\n",
        "\n",
        "for i in range(no_samples):\n",
        "\n",
        "  results[\"data_\" + sample_id[i]].write(\"result\" + sample_id[i])"
      ],
      "execution_count": null,
      "outputs": [
        {
          "output_type": "stream",
          "text": [
            "Trying to set attribute `.uns` of view, copying.\n",
            "Variable names are not unique. To make them unique, call `.var_names_make_unique`.\n",
            "Variable names are not unique. To make them unique, call `.var_names_make_unique`.\n"
          ],
          "name": "stderr"
        },
        {
          "output_type": "stream",
          "text": [
            "/content\n"
          ],
          "name": "stdout"
        },
        {
          "output_type": "stream",
          "text": [
            "... storing 'gene_name' as categorical\n"
          ],
          "name": "stderr"
        }
      ]
    }
  ]
}